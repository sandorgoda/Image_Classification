{
 "cells": [
  {
   "cell_type": "markdown",
   "metadata": {
    "collapsed": true,
    "deletable": true,
    "editable": true
   },
   "source": [
    "# Image Classification\n",
    "In this project, you'll classify images from the [CIFAR-10 dataset](https://www.cs.toronto.edu/~kriz/cifar.html).  The dataset consists of airplanes, dogs, cats, and other objects. You'll preprocess the images, then train a convolutional neural network on all the samples. The images need to be normalized and the labels need to be one-hot encoded.  You'll get to apply what you learned and build a convolutional, max pooling, dropout, and fully connected layers.  At the end, you'll get to see your neural network's predictions on the sample images.\n",
    "## Get the Data\n",
    "Run the following cell to download the [CIFAR-10 dataset for python](https://www.cs.toronto.edu/~kriz/cifar-10-python.tar.gz)."
   ]
  },
  {
   "cell_type": "code",
   "execution_count": 1,
   "metadata": {
    "collapsed": false,
    "deletable": true,
    "editable": true
   },
   "outputs": [
    {
     "name": "stderr",
     "output_type": "stream",
     "text": [
      "CIFAR-10 Dataset: 171MB [00:28, 5.88MB/s]                              \n"
     ]
    },
    {
     "name": "stdout",
     "output_type": "stream",
     "text": [
      "All files found!\n"
     ]
    }
   ],
   "source": [
    "\"\"\"\n",
    "DON'T MODIFY ANYTHING IN THIS CELL THAT IS BELOW THIS LINE\n",
    "\"\"\"\n",
    "from urllib.request import urlretrieve\n",
    "from os.path import isfile, isdir\n",
    "from tqdm import tqdm\n",
    "import problem_unittests as tests\n",
    "import tarfile\n",
    "\n",
    "cifar10_dataset_folder_path = 'cifar-10-batches-py'\n",
    "\n",
    "# Use Floyd's cifar-10 dataset if present\n",
    "floyd_cifar10_location = '/input/cifar-10/python.tar.gz'\n",
    "if isfile(floyd_cifar10_location):\n",
    "    tar_gz_path = floyd_cifar10_location\n",
    "else:\n",
    "    tar_gz_path = 'cifar-10-python.tar.gz'\n",
    "\n",
    "class DLProgress(tqdm):\n",
    "    last_block = 0\n",
    "\n",
    "    def hook(self, block_num=1, block_size=1, total_size=None):\n",
    "        self.total = total_size\n",
    "        self.update((block_num - self.last_block) * block_size)\n",
    "        self.last_block = block_num\n",
    "\n",
    "if not isfile(tar_gz_path):\n",
    "    with DLProgress(unit='B', unit_scale=True, miniters=1, desc='CIFAR-10 Dataset') as pbar:\n",
    "        urlretrieve(\n",
    "            'https://www.cs.toronto.edu/~kriz/cifar-10-python.tar.gz',\n",
    "            tar_gz_path,\n",
    "            pbar.hook)\n",
    "\n",
    "if not isdir(cifar10_dataset_folder_path):\n",
    "    with tarfile.open(tar_gz_path) as tar:\n",
    "        tar.extractall()\n",
    "        tar.close()\n",
    "\n",
    "\n",
    "tests.test_folder_path(cifar10_dataset_folder_path)"
   ]
  },
  {
   "cell_type": "markdown",
   "metadata": {
    "deletable": true,
    "editable": true
   },
   "source": [
    "## Explore the Data\n",
    "The dataset is broken into batches to prevent your machine from running out of memory.  The CIFAR-10 dataset consists of 5 batches, named `data_batch_1`, `data_batch_2`, etc.. Each batch contains the labels and images that are one of the following:\n",
    "* airplane\n",
    "* automobile\n",
    "* bird\n",
    "* cat\n",
    "* deer\n",
    "* dog\n",
    "* frog\n",
    "* horse\n",
    "* ship\n",
    "* truck\n",
    "\n",
    "Understanding a dataset is part of making predictions on the data.  Play around with the code cell below by changing the `batch_id` and `sample_id`. The `batch_id` is the id for a batch (1-5). The `sample_id` is the id for a image and label pair in the batch.\n",
    "\n",
    "Ask yourself \"What are all possible labels?\", \"What is the range of values for the image data?\", \"Are the labels in order or random?\".  Answers to questions like these will help you preprocess the data and end up with better predictions."
   ]
  },
  {
   "cell_type": "code",
   "execution_count": 2,
   "metadata": {
    "collapsed": false,
    "deletable": true,
    "editable": true
   },
   "outputs": [
    {
     "name": "stdout",
     "output_type": "stream",
     "text": [
      "\n",
      "Stats of batch 1:\n",
      "Samples: 10000\n",
      "Label Counts: {0: 1005, 1: 974, 2: 1032, 3: 1016, 4: 999, 5: 937, 6: 1030, 7: 1001, 8: 1025, 9: 981}\n",
      "First 20 Labels: [6, 9, 9, 4, 1, 1, 2, 7, 8, 3, 4, 7, 7, 2, 9, 9, 9, 3, 2, 6]\n",
      "\n",
      "Example of Image 1:\n",
      "Image - Min Value: 5 Max Value: 254\n",
      "Image - Shape: (32, 32, 3)\n",
      "Label - Label Id: 9 Name: truck\n"
     ]
    },
    {
     "data": {
      "image/png": "[encoded data removed]",
      "text/plain": [
       "<matplotlib.figure.Figure at 0x7f415805df98>"
      ]
     },
     "metadata": {
      "image/png": {
       "height": 250,
       "width": 253
      }
     },
     "output_type": "display_data"
    }
   ],
   "source": [
    "#A particularly interesting backend, provided by iPython, is the inline backend. \n",
    "#With this backend, the output of plotting commands is displayed inline within frontends like Jupyter Notebook, \n",
    "#directly below the code cell that produced it.\n",
    "%matplotlib inline\n",
    "%config InlineBackend.figure_format = 'retina'\n",
    "\n",
    "import helper\n",
    "import numpy as np\n",
    "\n",
    "# Explore the dataset\n",
    "batch_id = 1\n",
    "sample_id = 1\n",
    "helper.display_stats(cifar10_dataset_folder_path, batch_id, sample_id)"
   ]
  },
  {
   "cell_type": "code",
   "execution_count": 3,
   "metadata": {
    "collapsed": false,
    "deletable": true,
    "editable": true
   },
   "outputs": [
    {
     "name": "stdout",
     "output_type": "stream",
     "text": [
      "\n",
      "Original pixel values for channel 0: [[154 126 105 ...,  91  87  79]\n",
      " [140 145 125 ...,  96  77  71]\n",
      " [140 139 115 ...,  79  68  67]\n",
      " ..., \n",
      " [175 156 154 ...,  42  61  93]\n",
      " [165 156 159 ..., 103 123 131]\n",
      " [163 158 163 ..., 143 143 143]]\n",
      "\n",
      "Normalized pixel values for channel 0: [[ 0.60392157  0.49411765  0.41176471 ...,  0.35686275  0.34117647\n",
      "   0.30980392]\n",
      " [ 0.54901961  0.56862745  0.49019608 ...,  0.37647059  0.30196078\n",
      "   0.27843137]\n",
      " [ 0.54901961  0.54509804  0.45098039 ...,  0.30980392  0.26666667\n",
      "   0.2627451 ]\n",
      " ..., \n",
      " [ 0.68627451  0.61176471  0.60392157 ...,  0.16470588  0.23921569\n",
      "   0.36470588]\n",
      " [ 0.64705882  0.61176471  0.62352941 ...,  0.40392157  0.48235294\n",
      "   0.51372549]\n",
      " [ 0.63921569  0.61960784  0.63921569 ...,  0.56078431  0.56078431\n",
      "   0.56078431]]\n"
     ]
    }
   ],
   "source": [
    "#Load a batch of dataset\n",
    "features, labels = helper.load_cfar10_batch(cifar10_dataset_folder_path, 1)\n",
    "#Load an image of the batch\n",
    "sample_image = features[1]\n",
    "#Check pixel values of channel 0\n",
    "print(\"\\nOriginal pixel values for channel 0:\", sample_image[:,:,0])\n",
    "#Check normalized pixel values of channel 0\n",
    "print(\"\\nNormalized pixel values for channel 0:\", sample_image[:,:,0]/255)"
   ]
  },
  {
   "cell_type": "markdown",
   "metadata": {
    "deletable": true,
    "editable": true
   },
   "source": [
    "## Implement Preprocess Functions\n",
    "### Normalize\n",
    "In the cell below, implement the `normalize` function to take in image data, `x`, and return it as a normalized Numpy array. The values should be in the range of 0 to 1, inclusive.  The return object should be the same shape as `x`."
   ]
  },
  {
   "cell_type": "code",
   "execution_count": 4,
   "metadata": {
    "collapsed": false,
    "deletable": true,
    "editable": true
   },
   "outputs": [
    {
     "name": "stdout",
     "output_type": "stream",
     "text": [
      "Tests Passed\n"
     ]
    }
   ],
   "source": [
    "def normalize(x):\n",
    "    \"\"\"\n",
    "    Normalize a list of sample image data in the range of 0 to 1\n",
    "    : x: List of image data.  The image shape is (32, 32, 3)\n",
    "    : return: Numpy array of normalize data\n",
    "    \"\"\"\n",
    "    # TODO: Implement Function\n",
    "\n",
    "    return x/255\n",
    "\"\"\"\n",
    "DON'T MODIFY ANYTHING IN THIS CELL THAT IS BELOW THIS LINE\n",
    "\"\"\"\n",
    "tests.test_normalize(normalize)"
   ]
  },
  {
   "cell_type": "markdown",
   "metadata": {
    "deletable": true,
    "editable": true
   },
   "source": [
    "### One-hot encode\n",
    "Just like the previous code cell, you'll be implementing a function for preprocessing.  This time, you'll implement the `one_hot_encode` function. The input, `x`, are a list of labels.  Implement the function to return the list of labels as One-Hot encoded Numpy array.  The possible values for labels are 0 to 9. The one-hot encoding function should return the same encoding for each value between each call to `one_hot_encode`.  Make sure to save the map of encodings outside the function.\n",
    "\n",
    "Hint: Don't reinvent the wheel."
   ]
  },
  {
   "cell_type": "code",
   "execution_count": 5,
   "metadata": {
    "collapsed": false,
    "deletable": true,
    "editable": true
   },
   "outputs": [
    {
     "name": "stdout",
     "output_type": "stream",
     "text": [
      "[[ 0.  0.  0.  0.  0.  0.  1.  0.  0.  0.]\n",
      " [ 0.  0.  0.  0.  0.  0.  0.  0.  0.  1.]\n",
      " [ 0.  0.  0.  0.  0.  0.  0.  0.  0.  1.]\n",
      " [ 0.  0.  0.  0.  1.  0.  0.  0.  0.  0.]\n",
      " [ 0.  1.  0.  0.  0.  0.  0.  0.  0.  0.]\n",
      " [ 0.  1.  0.  0.  0.  0.  0.  0.  0.  0.]\n",
      " [ 0.  0.  1.  0.  0.  0.  0.  0.  0.  0.]\n",
      " [ 0.  0.  0.  0.  0.  0.  0.  1.  0.  0.]\n",
      " [ 0.  0.  0.  0.  0.  0.  0.  0.  1.  0.]\n",
      " [ 0.  0.  0.  1.  0.  0.  0.  0.  0.  0.]\n",
      " [ 0.  0.  0.  0.  1.  0.  0.  0.  0.  0.]\n",
      " [ 0.  0.  0.  0.  0.  0.  0.  1.  0.  0.]\n",
      " [ 0.  0.  0.  0.  0.  0.  0.  1.  0.  0.]\n",
      " [ 0.  0.  1.  0.  0.  0.  0.  0.  0.  0.]\n",
      " [ 0.  0.  0.  0.  0.  0.  0.  0.  0.  1.]\n",
      " [ 0.  0.  0.  0.  0.  0.  0.  0.  0.  1.]\n",
      " [ 0.  0.  0.  0.  0.  0.  0.  0.  0.  1.]\n",
      " [ 0.  0.  0.  1.  0.  0.  0.  0.  0.  0.]\n",
      " [ 0.  0.  1.  0.  0.  0.  0.  0.  0.  0.]\n",
      " [ 0.  0.  0.  0.  0.  0.  1.  0.  0.  0.]]\n"
     ]
    }
   ],
   "source": [
    "#Test one-hot encode numpy.eye function using the first 20 labels of the batch 1 from the \"Explore data section\"\n",
    "n_labels=10\n",
    "targets = np.array([6, 9, 9, 4, 1, 1, 2, 7, 8, 3, 4, 7, 7, 2, 9, 9, 9, 3, 2, 6])\n",
    "ohe = np.eye(n_labels)[targets]\n",
    "print(ohe)"
   ]
  },
  {
   "cell_type": "code",
   "execution_count": 6,
   "metadata": {
    "collapsed": false,
    "deletable": true,
    "editable": true
   },
   "outputs": [
    {
     "name": "stdout",
     "output_type": "stream",
     "text": [
      "Tests Passed\n"
     ]
    }
   ],
   "source": [
    "def one_hot_encode(x):\n",
    "    \"\"\"\n",
    "    One hot encode a list of sample labels. Return a one-hot encoded vector for each label.\n",
    "    : x: List of sample Labels\n",
    "    : return: Numpy array of one-hot encoded labels\n",
    "    \"\"\"\n",
    "    # TODO: Implement Function\n",
    "    return np.eye(n_labels)[x]\n",
    "\n",
    "\"\"\"\n",
    "DON'T MODIFY ANYTHING IN THIS CELL THAT IS BELOW THIS LINE\n",
    "\"\"\"\n",
    "tests.test_one_hot_encode(one_hot_encode)"
   ]
  },
  {
   "cell_type": "markdown",
   "metadata": {
    "deletable": true,
    "editable": true
   },
   "source": [
    "### Randomize Data\n",
    "As you saw from exploring the data above, the order of the samples are randomized.  It doesn't hurt to randomize it again, but you don't need to for this dataset."
   ]
  },
  {
   "cell_type": "markdown",
   "metadata": {
    "deletable": true,
    "editable": true
   },
   "source": [
    "## Preprocess all the data and save it\n",
    "Running the code cell below will preprocess all the CIFAR-10 data and save it to file. The code below also uses 10% of the training data for validation."
   ]
  },
  {
   "cell_type": "code",
   "execution_count": 7,
   "metadata": {
    "collapsed": true,
    "deletable": true,
    "editable": true
   },
   "outputs": [],
   "source": [
    "\"\"\"\n",
    "DON'T MODIFY ANYTHING IN THIS CELL\n",
    "\"\"\"\n",
    "# Preprocess Training, Validation, and Testing Data\n",
    "helper.preprocess_and_save_data(cifar10_dataset_folder_path, normalize, one_hot_encode)"
   ]
  },
  {
   "cell_type": "markdown",
   "metadata": {
    "deletable": true,
    "editable": true
   },
   "source": [
    "# Check Point\n",
    "This is your first checkpoint.  If you ever decide to come back to this notebook or have to restart the notebook, you can start from here.  The preprocessed data has been saved to disk."
   ]
  },
  {
   "cell_type": "code",
   "execution_count": 8,
   "metadata": {
    "collapsed": true,
    "deletable": true,
    "editable": true
   },
   "outputs": [],
   "source": [
    "\"\"\"\n",
    "DON'T MODIFY ANYTHING IN THIS CELL\n",
    "\"\"\"\n",
    "import pickle\n",
    "import problem_unittests as tests\n",
    "import helper\n",
    "\n",
    "# Load the Preprocessed Validation data\n",
    "valid_features, valid_labels = pickle.load(open('preprocess_validation.p', mode='rb'))"
   ]
  },
  {
   "cell_type": "markdown",
   "metadata": {
    "deletable": true,
    "editable": true
   },
   "source": [
    "## Build the network\n",
    "For the neural network, you'll build each layer into a function.  Most of the code you've seen has been outside of functions. To test your code more thoroughly, we require that you put each layer in a function.  This allows us to give you better feedback and test for simple mistakes using our unittests before you submit your project.\n",
    "\n",
    ">**Note:** If you're finding it hard to dedicate enough time for this course each week, we've provided a small shortcut to this part of the project. In the next couple of problems, you'll have the option to use classes from the [TensorFlow Layers](https://www.tensorflow.org/api_docs/python/tf/layers) or [TensorFlow Layers (contrib)](https://www.tensorflow.org/api_guides/python/contrib.layers) packages to build each layer, except the layers you build in the \"Convolutional and Max Pooling Layer\" section.  TF Layers is similar to Keras's and TFLearn's abstraction to layers, so it's easy to pickup.\n",
    "\n",
    ">However, if you would like to get the most out of this course, try to solve all the problems _without_ using anything from the TF Layers packages. You **can** still use classes from other packages that happen to have the same name as ones you find in TF Layers! For example, instead of using the TF Layers version of the `conv2d` class, [tf.layers.conv2d](https://www.tensorflow.org/api_docs/python/tf/layers/conv2d), you would want to use the TF Neural Network version of `conv2d`, [tf.nn.conv2d](https://www.tensorflow.org/api_docs/python/tf/nn/conv2d). \n",
    "\n",
    "Let's begin!\n",
    "\n",
    "### Input\n",
    "The neural network needs to read the image data, one-hot encoded labels, and dropout keep probability. Implement the following functions\n",
    "* Implement `neural_net_image_input`\n",
    " * Return a [TF Placeholder](https://www.tensorflow.org/api_docs/python/tf/placeholder)\n",
    " * Set the shape using `image_shape` with batch size set to `None`.\n",
    " * Name the TensorFlow placeholder \"x\" using the TensorFlow `name` parameter in the [TF Placeholder](https://www.tensorflow.org/api_docs/python/tf/placeholder).\n",
    "* Implement `neural_net_label_input`\n",
    " * Return a [TF Placeholder](https://www.tensorflow.org/api_docs/python/tf/placeholder)\n",
    " * Set the shape using `n_classes` with batch size set to `None`.\n",
    " * Name the TensorFlow placeholder \"y\" using the TensorFlow `name` parameter in the [TF Placeholder](https://www.tensorflow.org/api_docs/python/tf/placeholder).\n",
    "* Implement `neural_net_keep_prob_input`\n",
    " * Return a [TF Placeholder](https://www.tensorflow.org/api_docs/python/tf/placeholder) for dropout keep probability.\n",
    " * Name the TensorFlow placeholder \"keep_prob\" using the TensorFlow `name` parameter in the [TF Placeholder](https://www.tensorflow.org/api_docs/python/tf/placeholder).\n",
    "\n",
    "These names will be used at the end of the project to load your saved model.\n",
    "\n",
    "Note: `None` for shapes in TensorFlow allow for a dynamic size."
   ]
  },
  {
   "cell_type": "code",
   "execution_count": 9,
   "metadata": {
    "collapsed": false,
    "deletable": true,
    "editable": true
   },
   "outputs": [
    {
     "name": "stdout",
     "output_type": "stream",
     "text": [
      "Image Input Tests Passed.\n",
      "Label Input Tests Passed.\n",
      "Keep Prob Tests Passed.\n"
     ]
    }
   ],
   "source": [
    "import tensorflow as tf\n",
    "\n",
    "def neural_net_image_input(image_shape):\n",
    "    \"\"\"\n",
    "    Return a Tensor for a batch of image input\n",
    "    : image_shape: Shape of the images\n",
    "    : return: Tensor for image input.\n",
    "    \"\"\"\n",
    "    # TODO: Implement Function\n",
    "    return tf.placeholder(tf.float32, shape=(None, image_shape[0], image_shape[1], image_shape[2]), name='x')\n",
    "\n",
    "\n",
    "def neural_net_label_input(n_classes):\n",
    "    \"\"\"\n",
    "    Return a Tensor for a batch of label input\n",
    "    : n_classes: Number of classes\n",
    "    : return: Tensor for label input.\n",
    "    \"\"\"\n",
    "    # TODO: Implement Function\n",
    "    return tf.placeholder(tf.int32, [None, n_classes], name='y')\n",
    "\n",
    "\n",
    "def neural_net_keep_prob_input():\n",
    "    \"\"\"\n",
    "    Return a Tensor for keep probability\n",
    "    : return: Tensor for keep probability.\n",
    "    \"\"\"\n",
    "    # TODO: Implement Function\n",
    "    return tf.placeholder(tf.float32, name=\"keep_prob\")\n",
    "\n",
    "\n",
    "\"\"\"\n",
    "DON'T MODIFY ANYTHING IN THIS CELL THAT IS BELOW THIS LINE\n",
    "\"\"\"\n",
    "tf.reset_default_graph()\n",
    "tests.test_nn_image_inputs(neural_net_image_input)\n",
    "tests.test_nn_label_inputs(neural_net_label_input)\n",
    "tests.test_nn_keep_prob_inputs(neural_net_keep_prob_input)"
   ]
  },
  {
   "cell_type": "markdown",
   "metadata": {
    "deletable": true,
    "editable": true
   },
   "source": [
    "### Convolution and Max Pooling Layer\n",
    "Convolution layers have a lot of success with images. For this code cell, you should implement the function `conv2d_maxpool` to apply convolution then max pooling:\n",
    "* Create the weight and bias using `conv_ksize`, `conv_num_outputs` and the shape of `x_tensor`.\n",
    "* Apply a convolution to `x_tensor` using weight and `conv_strides`.\n",
    " * We recommend you use same padding, but you're welcome to use any padding.\n",
    "* Add bias\n",
    "* Add a nonlinear activation to the convolution.\n",
    "* Apply Max Pooling using `pool_ksize` and `pool_strides`.\n",
    " * We recommend you use same padding, but you're welcome to use any padding.\n",
    "\n",
    "**Note:** You **can't** use [TensorFlow Layers](https://www.tensorflow.org/api_docs/python/tf/layers) or [TensorFlow Layers (contrib)](https://www.tensorflow.org/api_guides/python/contrib.layers) for **this** layer, but you can still use TensorFlow's [Neural Network](https://www.tensorflow.org/api_docs/python/tf/nn) package. You may still use the shortcut option for all the **other** layers."
   ]
  },
  {
   "cell_type": "code",
   "execution_count": 10,
   "metadata": {
    "collapsed": false,
    "deletable": true,
    "editable": true
   },
   "outputs": [
    {
     "name": "stdout",
     "output_type": "stream",
     "text": [
      "Tests Passed\n"
     ]
    }
   ],
   "source": [
    "def conv2d_maxpool(x_tensor, conv_num_outputs, conv_ksize, conv_strides, pool_ksize, pool_strides):\n",
    "    \"\"\"\n",
    "    Apply convolution then max pooling to x_tensor\n",
    "    :param x_tensor: TensorFlow Tensor\n",
    "    :param conv_num_outputs: Number of outputs for the convolutional layer\n",
    "    :param conv_ksize: kernal size 2-D Tuple for the convolutional layer\n",
    "    :param conv_strides: Stride 2-D Tuple for convolution\n",
    "    :param pool_ksize: kernal size 2-D Tuple for pool\n",
    "    :param pool_strides: Stride 2-D Tuple for pool\n",
    "    : return: A tensor that represents convolution and max pooling of x_tensor\n",
    "    \"\"\"\n",
    "    # TODO: Implement Function\n",
    "    # Batch, Height, Width, Depth\n",
    "    \n",
    "    # Patch_hight, Patch_width, x_depth, output_depth\n",
    "    filter_weights = tf.Variable(tf.truncated_normal([conv_ksize[0], conv_ksize[1], x_tensor.get_shape().as_list()[3], \n",
    "                            conv_num_outputs],  stddev=0.1))\n",
    "    \n",
    "    # output_depth\n",
    "    filter_bias = tf.Variable(tf.truncated_normal([conv_num_outputs], stddev=0.1))\n",
    "    \n",
    "    output = tf.nn.conv2d(x_tensor, filter_weights, strides=[1, conv_strides[0], conv_strides[1], 1], padding='SAME')\n",
    "    \n",
    "    output = tf.nn.bias_add(output, filter_bias)\n",
    "    output = tf.nn.relu(output)\n",
    "    \n",
    "    #print('ksize: {}'.format(1, [pool_ksize[0], pool_ksize[1], 1]))\n",
    "    \n",
    "    output = tf.nn.max_pool(output, ksize=[1, pool_ksize[0], pool_ksize[1],1], \n",
    "                            strides=[1, pool_strides[0], pool_strides[1], 1], padding='SAME')\n",
    "    return output \n",
    "\n",
    "\"\"\"\n",
    "DON'T MODIFY ANYTHING IN THIS CELL THAT IS BELOW THIS LINE\n",
    "\"\"\"\n",
    "tests.test_con_pool(conv2d_maxpool)"
   ]
  },
  {
   "cell_type": "markdown",
   "metadata": {
    "deletable": true,
    "editable": true
   },
   "source": [
    "### Flatten Layer\n",
    "Implement the `flatten` function to change the dimension of `x_tensor` from a 4-D tensor to a 2-D tensor.  The output should be the shape (*Batch Size*, *Flattened Image Size*). Shortcut option: you can use classes from the [TensorFlow Layers](https://www.tensorflow.org/api_docs/python/tf/layers) or [TensorFlow Layers (contrib)](https://www.tensorflow.org/api_guides/python/contrib.layers) packages for this layer. For more of a challenge, only use other TensorFlow packages."
   ]
  },
  {
   "cell_type": "code",
   "execution_count": 11,
   "metadata": {
    "collapsed": false,
    "deletable": true,
    "editable": true,
    "scrolled": true
   },
   "outputs": [
    {
     "name": "stdout",
     "output_type": "stream",
     "text": [
      "Tests Passed\n"
     ]
    }
   ],
   "source": [
    "import numpy as np\n",
    "def flatten(x_tensor):\n",
    "    \"\"\"\n",
    "    Flatten x_tensor to (Batch Size, Flattened Image Size)\n",
    "    : x_tensor: A tensor of size (Batch Size, ...), where ... are the image dimensions.\n",
    "    : return: A tensor of size (Batch Size, Flattened Image Size).\n",
    "    \"\"\"\n",
    "    # TODO: Implement Function\n",
    "    shape = x_tensor.get_shape().as_list()  \n",
    "    dim = np.prod(shape[1:])         \n",
    "    x_tensor_reshaped = tf.reshape(x_tensor, [-1, dim]) \n",
    "    return x_tensor_reshaped\n",
    "\n",
    "\n",
    "\"\"\"\n",
    "DON'T MODIFY ANYTHING IN THIS CELL THAT IS BELOW THIS LINE\n",
    "\"\"\"\n",
    "tests.test_flatten(flatten)"
   ]
  },
  {
   "cell_type": "markdown",
   "metadata": {
    "deletable": true,
    "editable": true
   },
   "source": [
    "### Fully-Connected Layer\n",
    "Implement the `fully_conn` function to apply a fully connected layer to `x_tensor` with the shape (*Batch Size*, *num_outputs*). Shortcut option: you can use classes from the [TensorFlow Layers](https://www.tensorflow.org/api_docs/python/tf/layers) or [TensorFlow Layers (contrib)](https://www.tensorflow.org/api_guides/python/contrib.layers) packages for this layer. For more of a challenge, only use other TensorFlow packages."
   ]
  },
  {
   "cell_type": "code",
   "execution_count": 12,
   "metadata": {
    "collapsed": false,
    "deletable": true,
    "editable": true
   },
   "outputs": [
    {
     "name": "stdout",
     "output_type": "stream",
     "text": [
      "Tests Passed\n"
     ]
    }
   ],
   "source": [
    "def fully_conn(x_tensor, num_outputs):\n",
    "    \"\"\"\n",
    "    Apply a fully connected layer to x_tensor using weight and bias\n",
    "    : x_tensor: A 2-D tensor where the first dimension is batch size.\n",
    "    : num_outputs: The number of output that the new tensor should be.\n",
    "    : return: A 2-D tensor where the second dimension is num_outputs.\n",
    "    \"\"\"\n",
    "    # TODO: Implement Function\n",
    "    x_shape = x_tensor.get_shape().as_list()\n",
    "    img_size = x_shape[1]\n",
    "    w = tf.Variable(tf.truncated_normal([img_size , num_outputs],stddev=0.1))\n",
    "    b = tf.Variable(tf.truncated_normal([num_outputs],stddev=0.1))\n",
    "    fc = tf.add(tf.matmul(x_tensor,w),b)\n",
    "    fc = tf.nn.relu(fc)\n",
    "    return fc\n",
    "\n",
    "\n",
    "\"\"\"\n",
    "DON'T MODIFY ANYTHING IN THIS CELL THAT IS BELOW THIS LINE\n",
    "\"\"\"\n",
    "tests.test_fully_conn(fully_conn)"
   ]
  },
  {
   "cell_type": "markdown",
   "metadata": {
    "deletable": true,
    "editable": true
   },
   "source": [
    "### Output Layer\n",
    "Implement the `output` function to apply a fully connected layer to `x_tensor` with the shape (*Batch Size*, *num_outputs*). Shortcut option: you can use classes from the [TensorFlow Layers](https://www.tensorflow.org/api_docs/python/tf/layers) or [TensorFlow Layers (contrib)](https://www.tensorflow.org/api_guides/python/contrib.layers) packages for this layer. For more of a challenge, only use other TensorFlow packages.\n",
    "\n",
    "**Note:** Activation, softmax, or cross entropy should **not** be applied to this."
   ]
  },
  {
   "cell_type": "code",
   "execution_count": 13,
   "metadata": {
    "collapsed": false,
    "deletable": true,
    "editable": true
   },
   "outputs": [
    {
     "name": "stdout",
     "output_type": "stream",
     "text": [
      "Tests Passed\n"
     ]
    }
   ],
   "source": [
    "def output(x_tensor, num_outputs):\n",
    "    \"\"\"\n",
    "    Apply a output layer to x_tensor using weight and bias\n",
    "    : x_tensor: A 2-D tensor where the first dimension is batch size.\n",
    "    : num_outputs: The number of output that the new tensor should be.\n",
    "    : return: A 2-D tensor where the second dimension is num_outputs.\n",
    "    \"\"\"\n",
    "    # TODO: Implement Function\n",
    "    x_shape=x_tensor.get_shape().as_list()\n",
    "    size=x_shape[1]\n",
    "    w=tf.Variable(tf.truncated_normal([size, num_outputs], stddev=0.1))\n",
    "    b=tf.Variable(tf.truncated_normal([num_outputs], stddev=0.1))\n",
    "    output=tf.add(tf.matmul(x_tensor, w), b)\n",
    "    return output\n",
    "\n",
    "\n",
    "\"\"\"\n",
    "DON'T MODIFY ANYTHING IN THIS CELL THAT IS BELOW THIS LINE\n",
    "\"\"\"\n",
    "tests.test_output(output)"
   ]
  },
  {
   "cell_type": "markdown",
   "metadata": {
    "deletable": true,
    "editable": true
   },
   "source": [
    "### Create Convolutional Model\n",
    "Implement the function `conv_net` to create a convolutional neural network model. The function takes in a batch of images, `x`, and outputs logits.  Use the layers you created above to create this model:\n",
    "\n",
    "* Apply 1, 2, or 3 Convolution and Max Pool layers\n",
    "* Apply a Flatten Layer\n",
    "* Apply 1, 2, or 3 Fully Connected Layers\n",
    "* Apply an Output Layer\n",
    "* Return the output\n",
    "* Apply [TensorFlow's Dropout](https://www.tensorflow.org/api_docs/python/tf/nn/dropout) to one or more layers in the model using `keep_prob`. "
   ]
  },
  {
   "cell_type": "code",
   "execution_count": 14,
   "metadata": {
    "collapsed": false,
    "deletable": true,
    "editable": true
   },
   "outputs": [
    {
     "name": "stdout",
     "output_type": "stream",
     "text": [
      "Neural Network Built!\n"
     ]
    }
   ],
   "source": [
    "def conv_net(x, keep_prob):\n",
    "    \"\"\"\n",
    "    Create a convolutional neural network model\n",
    "    : x: Placeholder tensor that holds image data.\n",
    "    : keep_prob: Placeholder tensor that hold dropout keep probability.\n",
    "    : return: Tensor that represents logits\n",
    "    \"\"\"\n",
    "    # TODO: Apply 1, 2, or 3 Convolution and Max Pool layers\n",
    "    #    Play around with different number of outputs, kernel size and stride\n",
    "    # Function Definition from Above:\n",
    "    \n",
    "    conv_ksize = (5,5)\n",
    "    conv_strides = (2,2)\n",
    "    pool_ksize = (4,4)\n",
    "    pool_strides = (2,2)\n",
    "    num_outputs = 10\n",
    "    \n",
    "    #conv2d_maxpool(x_tensor, conv_num_outputs, conv_ksize, conv_strides, pool_ksize, pool_strides)\n",
    "    x = conv2d_maxpool(x, 64, conv_ksize, conv_strides, pool_ksize, pool_strides)\n",
    "    x = tf.nn.dropout(x, keep_prob)\n",
    "    \n",
    "    x = conv2d_maxpool(x, 128, conv_ksize, conv_strides, pool_ksize, pool_strides)\n",
    "    x = tf.nn.dropout(x, keep_prob)\n",
    "\n",
    "    x = conv2d_maxpool(x, 512, conv_ksize, conv_strides, pool_ksize, pool_strides)\n",
    "    # TODO: Apply a Flatten Layer\n",
    "    # Function Definition from Above:\n",
    "    #flatten(x_tensor)\n",
    "    x = flatten(x)\n",
    "    # TODO: Apply 1, 2, or 3 Fully Connected Layers\n",
    "    #    Play around with different number of outputs\n",
    "    # Function Definition from Above:\n",
    "    #fully_conn(x_tensor, num_outputs)\n",
    "    num_outputs = 512\n",
    "    x = fully_conn(x, num_outputs)\n",
    "    x = tf.nn.dropout(x, keep_prob)\n",
    "\n",
    "    num_outputs = 128\n",
    "    x = fully_conn(x, num_outputs)\n",
    "    x = tf.nn.dropout(x, keep_prob)\n",
    "\n",
    "    num_outputs = 32\n",
    "    x = fully_conn(x, num_outputs)\n",
    "    x = tf.nn.dropout(x, keep_prob)\n",
    "\n",
    "    # TODO: Apply an Output Layer\n",
    "    #    Set this to the number of classes\n",
    "    # Function Definition from Above:\n",
    "    #output(x_tensor, num_outputs)\n",
    "    x = output(x,10)\n",
    "    # TODO: return output\n",
    "\n",
    "    return x\n",
    "\n",
    "\n",
    "\"\"\"\n",
    "DON'T MODIFY ANYTHING IN THIS CELL THAT IS BELOW THIS LINE\n",
    "\"\"\"\n",
    "\n",
    "##############################\n",
    "## Build the Neural Network ##\n",
    "##############################\n",
    "\n",
    "# Remove previous weights, bias, inputs, etc..\n",
    "tf.reset_default_graph()\n",
    "\n",
    "# Inputs\n",
    "x = neural_net_image_input((32, 32, 3))\n",
    "y = neural_net_label_input(10)\n",
    "keep_prob = neural_net_keep_prob_input()\n",
    "\n",
    "# Model\n",
    "logits = conv_net(x, keep_prob)\n",
    "\n",
    "# Name logits Tensor, so that is can be loaded from disk after training\n",
    "logits = tf.identity(logits, name='logits')\n",
    "\n",
    "# Loss and Optimizer\n",
    "cost = tf.reduce_mean(tf.nn.softmax_cross_entropy_with_logits(logits=logits, labels=y))\n",
    "optimizer = tf.train.AdamOptimizer().minimize(cost)\n",
    "\n",
    "# Accuracy\n",
    "correct_pred = tf.equal(tf.argmax(logits, 1), tf.argmax(y, 1))\n",
    "accuracy = tf.reduce_mean(tf.cast(correct_pred, tf.float32), name='accuracy')\n",
    "\n",
    "tests.test_conv_net(conv_net)"
   ]
  },
  {
   "cell_type": "markdown",
   "metadata": {
    "deletable": true,
    "editable": true
   },
   "source": [
    "## Train the Neural Network\n",
    "### Single Optimization\n",
    "Implement the function `train_neural_network` to do a single optimization.  The optimization should use `optimizer` to optimize in `session` with a `feed_dict` of the following:\n",
    "* `x` for image input\n",
    "* `y` for labels\n",
    "* `keep_prob` for keep probability for dropout\n",
    "\n",
    "This function will be called for each batch, so `tf.global_variables_initializer()` has already been called.\n",
    "\n",
    "Note: Nothing needs to be returned. This function is only optimizing the neural network."
   ]
  },
  {
   "cell_type": "code",
   "execution_count": 15,
   "metadata": {
    "collapsed": false,
    "deletable": true,
    "editable": true
   },
   "outputs": [
    {
     "name": "stdout",
     "output_type": "stream",
     "text": [
      "Tests Passed\n"
     ]
    }
   ],
   "source": [
    "def train_neural_network(session, optimizer, keep_probability, feature_batch, label_batch):\n",
    "    \"\"\"\n",
    "    Optimize the session on a batch of images and labels\n",
    "    : session: Current TensorFlow session\n",
    "    : optimizer: TensorFlow optimizer function\n",
    "    : keep_probability: keep probability\n",
    "    : feature_batch: Batch of Numpy image data\n",
    "    : label_batch: Batch of Numpy label data\n",
    "    \"\"\"\n",
    "    # TODO: Implement Function\n",
    "    session.run(optimizer, feed_dict={x: feature_batch,y: label_batch,keep_prob: keep_probability})\n",
    "    pass\n",
    "\n",
    "\n",
    "\"\"\"\n",
    "DON'T MODIFY ANYTHING IN THIS CELL THAT IS BELOW THIS LINE\n",
    "\"\"\"\n",
    "tests.test_train_nn(train_neural_network)"
   ]
  },
  {
   "cell_type": "markdown",
   "metadata": {
    "deletable": true,
    "editable": true
   },
   "source": [
    "### Show Stats\n",
    "Implement the function `print_stats` to print loss and validation accuracy.  Use the global variables `valid_features` and `valid_labels` to calculate validation accuracy.  Use a keep probability of `1.0` to calculate the loss and validation accuracy."
   ]
  },
  {
   "cell_type": "code",
   "execution_count": 16,
   "metadata": {
    "collapsed": true,
    "deletable": true,
    "editable": true
   },
   "outputs": [],
   "source": [
    "def print_stats(session, feature_batch, label_batch, cost, accuracy):\n",
    "    \"\"\"\n",
    "    Print information about loss and validation accuracy\n",
    "    : session: Current TensorFlow session\n",
    "    : feature_batch: Batch of Numpy image data\n",
    "    : label_batch: Batch of Numpy label data\n",
    "    : cost: TensorFlow cost function\n",
    "    : accuracy: TensorFlow accuracy function\n",
    "    \"\"\"\n",
    "    loss = session.run(cost, feed_dict={x: feature_batch, y: label_batch, keep_prob: 1.})\n",
    "    valid_acc = session.run(accuracy, feed_dict={x: valid_features, y: valid_labels, keep_prob: 1.})\n",
    "    print('Loss at {}'.format(loss), 'Validation Accuracy at {}'.format(valid_acc))    \n",
    "    pass"
   ]
  },
  {
   "cell_type": "markdown",
   "metadata": {
    "deletable": true,
    "editable": true
   },
   "source": [
    "### Hyperparameters\n",
    "Tune the following parameters:\n",
    "* Set `epochs` to the number of iterations until the network stops learning or start overfitting\n",
    "* Set `batch_size` to the highest number that your machine has memory for.  Most people set them to common sizes of memory:\n",
    " * 64\n",
    " * 128\n",
    " * 256\n",
    " * ...\n",
    "* Set `keep_probability` to the probability of keeping a node using dropout"
   ]
  },
  {
   "cell_type": "code",
   "execution_count": 17,
   "metadata": {
    "collapsed": true,
    "deletable": true,
    "editable": true
   },
   "outputs": [],
   "source": [
    "# TODO: Tune Parameters\n",
    "epochs = 18\n",
    "batch_size = 512\n",
    "keep_probability = 0.9"
   ]
  },
  {
   "cell_type": "markdown",
   "metadata": {
    "deletable": true,
    "editable": true
   },
   "source": [
    "### Train on a Single CIFAR-10 Batch\n",
    "Instead of training the neural network on all the CIFAR-10 batches of data, let's use a single batch. This should save time while you iterate on the model to get a better accuracy.  Once the final validation accuracy is 50% or greater, run the model on all the data in the next section."
   ]
  },
  {
   "cell_type": "code",
   "execution_count": 18,
   "metadata": {
    "collapsed": false,
    "deletable": true,
    "editable": true
   },
   "outputs": [
    {
     "name": "stdout",
     "output_type": "stream",
     "text": [
      "Checking the Training on a Single Batch...\n",
      "Epoch  1, CIFAR-10 Batch 1:  Loss at 2.2717854976654053 Validation Accuracy at 0.11879999935626984\n",
      "Epoch  2, CIFAR-10 Batch 1:  Loss at 2.211209535598755 Validation Accuracy at 0.16559998691082\n",
      "Epoch  3, CIFAR-10 Batch 1:  Loss at 2.138866424560547 Validation Accuracy at 0.20019999146461487\n",
      "Epoch  4, CIFAR-10 Batch 1:  Loss at 1.9655789136886597 Validation Accuracy at 0.2880000174045563\n",
      "Epoch  5, CIFAR-10 Batch 1:  Loss at 1.927358627319336 Validation Accuracy at 0.31519997119903564\n",
      "Epoch  6, CIFAR-10 Batch 1:  Loss at 1.7308804988861084 Validation Accuracy at 0.36980000138282776\n",
      "Epoch  7, CIFAR-10 Batch 1:  Loss at 1.5991268157958984 Validation Accuracy at 0.4031999707221985\n",
      "Epoch  8, CIFAR-10 Batch 1:  Loss at 1.4648268222808838 Validation Accuracy at 0.43939995765686035\n",
      "Epoch  9, CIFAR-10 Batch 1:  Loss at 1.3722281455993652 Validation Accuracy at 0.46299999952316284\n",
      "Epoch 10, CIFAR-10 Batch 1:  Loss at 1.27290940284729 Validation Accuracy at 0.4729999899864197\n",
      "Epoch 11, CIFAR-10 Batch 1:  Loss at 1.181840419769287 Validation Accuracy at 0.49479997158050537\n",
      "Epoch 12, CIFAR-10 Batch 1:  Loss at 1.1066337823867798 Validation Accuracy at 0.5043999552726746\n",
      "Epoch 13, CIFAR-10 Batch 1:  Loss at 1.0242884159088135 Validation Accuracy at 0.5291998982429504\n",
      "Epoch 14, CIFAR-10 Batch 1:  Loss at 0.9670188426971436 Validation Accuracy at 0.5181999206542969\n",
      "Epoch 15, CIFAR-10 Batch 1:  Loss at 0.9050074815750122 Validation Accuracy at 0.535599946975708\n",
      "Epoch 16, CIFAR-10 Batch 1:  Loss at 0.8823115825653076 Validation Accuracy at 0.5443999767303467\n",
      "Epoch 17, CIFAR-10 Batch 1:  Loss at 0.827750027179718 Validation Accuracy at 0.5459999442100525\n",
      "Epoch 18, CIFAR-10 Batch 1:  Loss at 0.7914820313453674 Validation Accuracy at 0.5479999780654907\n"
     ]
    }
   ],
   "source": [
    "\"\"\"\n",
    "DON'T MODIFY ANYTHING IN THIS CELL\n",
    "\"\"\"\n",
    "print('Checking the Training on a Single Batch...')\n",
    "with tf.Session() as sess:\n",
    "    # Initializing the variables\n",
    "    sess.run(tf.global_variables_initializer())\n",
    "    \n",
    "    # Training cycle\n",
    "    for epoch in range(epochs):\n",
    "        batch_i = 1\n",
    "        for batch_features, batch_labels in helper.load_preprocess_training_batch(batch_i, batch_size):\n",
    "            train_neural_network(sess, optimizer, keep_probability, batch_features, batch_labels)\n",
    "        print('Epoch {:>2}, CIFAR-10 Batch {}:  '.format(epoch + 1, batch_i), end='')\n",
    "        print_stats(sess, batch_features, batch_labels, cost, accuracy)"
   ]
  },
  {
   "cell_type": "markdown",
   "metadata": {
    "deletable": true,
    "editable": true
   },
   "source": [
    "### Fully Train the Model\n",
    "Now that you got a good accuracy with a single CIFAR-10 batch, try it with all five batches."
   ]
  },
  {
   "cell_type": "code",
   "execution_count": 19,
   "metadata": {
    "collapsed": false,
    "deletable": true,
    "editable": true
   },
   "outputs": [
    {
     "name": "stdout",
     "output_type": "stream",
     "text": [
      "Training...\n",
      "Epoch  1, CIFAR-10 Batch 1:  Loss at 2.290959119796753 Validation Accuracy at 0.12159998714923859\n",
      "Epoch  1, CIFAR-10 Batch 2:  Loss at 2.2273190021514893 Validation Accuracy at 0.15279999375343323\n",
      "Epoch  1, CIFAR-10 Batch 3:  Loss at 2.154128074645996 Validation Accuracy at 0.22759997844696045\n",
      "Epoch  1, CIFAR-10 Batch 4:  Loss at 1.957574486732483 Validation Accuracy at 0.24879999458789825\n",
      "Epoch  1, CIFAR-10 Batch 5:  Loss at 1.822739601135254 Validation Accuracy at 0.2955999970436096\n",
      "Epoch  2, CIFAR-10 Batch 1:  Loss at 1.7827070951461792 Validation Accuracy at 0.3567999601364136\n",
      "Epoch  2, CIFAR-10 Batch 2:  Loss at 1.656055212020874 Validation Accuracy at 0.3856000006198883\n",
      "Epoch  2, CIFAR-10 Batch 3:  Loss at 1.4769631624221802 Validation Accuracy at 0.38739997148513794\n",
      "Epoch  2, CIFAR-10 Batch 4:  Loss at 1.4402060508728027 Validation Accuracy at 0.44359999895095825\n",
      "Epoch  2, CIFAR-10 Batch 5:  Loss at 1.4122951030731201 Validation Accuracy at 0.4585999548435211\n",
      "Epoch  3, CIFAR-10 Batch 1:  Loss at 1.480023980140686 Validation Accuracy at 0.4675999581813812\n",
      "Epoch  3, CIFAR-10 Batch 2:  Loss at 1.3726983070373535 Validation Accuracy at 0.49139994382858276\n",
      "Epoch  3, CIFAR-10 Batch 3:  Loss at 1.2194609642028809 Validation Accuracy at 0.49779996275901794\n",
      "Epoch  3, CIFAR-10 Batch 4:  Loss at 1.2353951930999756 Validation Accuracy at 0.5213998556137085\n",
      "Epoch  3, CIFAR-10 Batch 5:  Loss at 1.2004570960998535 Validation Accuracy at 0.5173999071121216\n",
      "Epoch  4, CIFAR-10 Batch 1:  Loss at 1.251855492591858 Validation Accuracy at 0.5367999076843262\n",
      "Epoch  4, CIFAR-10 Batch 2:  Loss at 1.2095777988433838 Validation Accuracy at 0.5313999652862549\n",
      "Epoch  4, CIFAR-10 Batch 3:  Loss at 1.0920660495758057 Validation Accuracy at 0.5493999123573303\n",
      "Epoch  4, CIFAR-10 Batch 4:  Loss at 1.067763328552246 Validation Accuracy at 0.5641999244689941\n",
      "Epoch  4, CIFAR-10 Batch 5:  Loss at 1.1008200645446777 Validation Accuracy at 0.5537999272346497\n",
      "Epoch  5, CIFAR-10 Batch 1:  Loss at 1.1906185150146484 Validation Accuracy at 0.5605999827384949\n",
      "Epoch  5, CIFAR-10 Batch 2:  Loss at 1.1096410751342773 Validation Accuracy at 0.5527998805046082\n",
      "Epoch  5, CIFAR-10 Batch 3:  Loss at 0.9952272176742554 Validation Accuracy at 0.5691999197006226\n",
      "Epoch  5, CIFAR-10 Batch 4:  Loss at 0.9561038613319397 Validation Accuracy at 0.5899999141693115\n",
      "Epoch  5, CIFAR-10 Batch 5:  Loss at 1.0024529695510864 Validation Accuracy at 0.5893999338150024\n",
      "Epoch  6, CIFAR-10 Batch 1:  Loss at 1.088632583618164 Validation Accuracy at 0.5805999040603638\n",
      "Epoch  6, CIFAR-10 Batch 2:  Loss at 1.0166856050491333 Validation Accuracy at 0.5767999887466431\n",
      "Epoch  6, CIFAR-10 Batch 3:  Loss at 0.9159291982650757 Validation Accuracy at 0.5941998958587646\n",
      "Epoch  6, CIFAR-10 Batch 4:  Loss at 0.901878833770752 Validation Accuracy at 0.5971998572349548\n",
      "Epoch  6, CIFAR-10 Batch 5:  Loss at 0.943570613861084 Validation Accuracy at 0.6025999188423157\n",
      "Epoch  7, CIFAR-10 Batch 1:  Loss at 0.9840101003646851 Validation Accuracy at 0.6189999580383301\n",
      "Epoch  7, CIFAR-10 Batch 2:  Loss at 0.9563793540000916 Validation Accuracy at 0.613399863243103\n",
      "Epoch  7, CIFAR-10 Batch 3:  Loss at 0.8563043475151062 Validation Accuracy at 0.6037999391555786\n",
      "Epoch  7, CIFAR-10 Batch 4:  Loss at 0.8228334188461304 Validation Accuracy at 0.621999979019165\n",
      "Epoch  7, CIFAR-10 Batch 5:  Loss at 0.8464000225067139 Validation Accuracy at 0.6333998441696167\n",
      "Epoch  8, CIFAR-10 Batch 1:  Loss at 0.93092942237854 Validation Accuracy at 0.6243999004364014\n",
      "Epoch  8, CIFAR-10 Batch 2:  Loss at 0.927094042301178 Validation Accuracy at 0.5997999906539917\n",
      "Epoch  8, CIFAR-10 Batch 3:  Loss at 0.7561599016189575 Validation Accuracy at 0.6243999004364014\n",
      "Epoch  8, CIFAR-10 Batch 4:  Loss at 0.7482353448867798 Validation Accuracy at 0.6339999437332153\n",
      "Epoch  8, CIFAR-10 Batch 5:  Loss at 0.8162691593170166 Validation Accuracy at 0.6393998861312866\n",
      "Epoch  9, CIFAR-10 Batch 1:  Loss at 0.8706666231155396 Validation Accuracy at 0.631399929523468\n",
      "Epoch  9, CIFAR-10 Batch 2:  Loss at 0.8553940653800964 Validation Accuracy at 0.630599856376648\n",
      "Epoch  9, CIFAR-10 Batch 3:  Loss at 0.7303656339645386 Validation Accuracy at 0.6393998861312866\n",
      "Epoch  9, CIFAR-10 Batch 4:  Loss at 0.7218774557113647 Validation Accuracy at 0.6415998935699463\n",
      "Epoch  9, CIFAR-10 Batch 5:  Loss at 0.7839931845664978 Validation Accuracy at 0.6383998990058899\n",
      "Epoch 10, CIFAR-10 Batch 1:  Loss at 0.8440325260162354 Validation Accuracy at 0.6333999633789062\n",
      "Epoch 10, CIFAR-10 Batch 2:  Loss at 0.780444860458374 Validation Accuracy at 0.6337999105453491\n",
      "Epoch 10, CIFAR-10 Batch 3:  Loss at 0.6710687875747681 Validation Accuracy at 0.6517999172210693\n",
      "Epoch 10, CIFAR-10 Batch 4:  Loss at 0.6750681400299072 Validation Accuracy at 0.6457999348640442\n",
      "Epoch 10, CIFAR-10 Batch 5:  Loss at 0.7631334066390991 Validation Accuracy at 0.650999903678894\n",
      "Epoch 11, CIFAR-10 Batch 1:  Loss at 0.7475959658622742 Validation Accuracy at 0.6561998724937439\n",
      "Epoch 11, CIFAR-10 Batch 2:  Loss at 0.7521596550941467 Validation Accuracy at 0.6417998671531677\n",
      "Epoch 11, CIFAR-10 Batch 3:  Loss at 0.6168171167373657 Validation Accuracy at 0.6653998494148254\n",
      "Epoch 11, CIFAR-10 Batch 4:  Loss at 0.6328556537628174 Validation Accuracy at 0.656799852848053\n",
      "Epoch 11, CIFAR-10 Batch 5:  Loss at 0.6787331700325012 Validation Accuracy at 0.6553998589515686\n",
      "Epoch 12, CIFAR-10 Batch 1:  Loss at 0.698982298374176 Validation Accuracy at 0.6587998867034912\n",
      "Epoch 12, CIFAR-10 Batch 2:  Loss at 0.7182565927505493 Validation Accuracy at 0.6429999470710754\n",
      "Epoch 12, CIFAR-10 Batch 3:  Loss at 0.576795220375061 Validation Accuracy at 0.6645999550819397\n",
      "Epoch 12, CIFAR-10 Batch 4:  Loss at 0.5749725103378296 Validation Accuracy at 0.6629998683929443\n",
      "Epoch 12, CIFAR-10 Batch 5:  Loss at 0.6632215976715088 Validation Accuracy at 0.6505999565124512\n",
      "Epoch 13, CIFAR-10 Batch 1:  Loss at 0.6434171199798584 Validation Accuracy at 0.6703998446464539\n",
      "Epoch 13, CIFAR-10 Batch 2:  Loss at 0.6572835445404053 Validation Accuracy at 0.6505998373031616\n",
      "Epoch 13, CIFAR-10 Batch 3:  Loss at 0.5531316995620728 Validation Accuracy at 0.6593999266624451\n",
      "Epoch 13, CIFAR-10 Batch 4:  Loss at 0.5692801475524902 Validation Accuracy at 0.6597998738288879\n",
      "Epoch 13, CIFAR-10 Batch 5:  Loss at 0.5877503156661987 Validation Accuracy at 0.665199875831604\n",
      "Epoch 14, CIFAR-10 Batch 1:  Loss at 0.6137887835502625 Validation Accuracy at 0.6713998317718506\n",
      "Epoch 14, CIFAR-10 Batch 2:  Loss at 0.6229424476623535 Validation Accuracy at 0.6621999144554138\n",
      "Epoch 14, CIFAR-10 Batch 3:  Loss at 0.514702558517456 Validation Accuracy at 0.6697998642921448\n",
      "Epoch 14, CIFAR-10 Batch 4:  Loss at 0.5446699261665344 Validation Accuracy at 0.6643998622894287\n",
      "Epoch 14, CIFAR-10 Batch 5:  Loss at 0.5249729156494141 Validation Accuracy at 0.6695998907089233\n",
      "Epoch 15, CIFAR-10 Batch 1:  Loss at 0.5786281824111938 Validation Accuracy at 0.6635998487472534\n",
      "Epoch 15, CIFAR-10 Batch 2:  Loss at 0.5724964141845703 Validation Accuracy at 0.6679998636245728\n",
      "Epoch 15, CIFAR-10 Batch 3:  Loss at 0.4633871614933014 Validation Accuracy at 0.6883998513221741\n",
      "Epoch 15, CIFAR-10 Batch 4:  Loss at 0.5068765878677368 Validation Accuracy at 0.6681998372077942\n",
      "Epoch 15, CIFAR-10 Batch 5:  Loss at 0.4979343116283417 Validation Accuracy at 0.6591999530792236\n",
      "Epoch 16, CIFAR-10 Batch 1:  Loss at 0.5436481237411499 Validation Accuracy at 0.6693998575210571\n",
      "Epoch 16, CIFAR-10 Batch 2:  Loss at 0.5751755833625793 Validation Accuracy at 0.6777998208999634\n",
      "Epoch 16, CIFAR-10 Batch 3:  Loss at 0.4484304189682007 Validation Accuracy at 0.6893998980522156\n",
      "Epoch 16, CIFAR-10 Batch 4:  Loss at 0.4627871811389923 Validation Accuracy at 0.6803998947143555\n",
      "Epoch 16, CIFAR-10 Batch 5:  Loss at 0.45942795276641846 Validation Accuracy at 0.672999918460846\n",
      "Epoch 17, CIFAR-10 Batch 1:  Loss at 0.5419947504997253 Validation Accuracy at 0.6827999353408813\n",
      "Epoch 17, CIFAR-10 Batch 2:  Loss at 0.48598480224609375 Validation Accuracy at 0.682999849319458\n",
      "Epoch 17, CIFAR-10 Batch 3:  Loss at 0.40542879700660706 Validation Accuracy at 0.6813998222351074\n",
      "Epoch 17, CIFAR-10 Batch 4:  Loss at 0.44888409972190857 Validation Accuracy at 0.6889998316764832\n",
      "Epoch 17, CIFAR-10 Batch 5:  Loss at 0.4165579080581665 Validation Accuracy at 0.6713998317718506\n",
      "Epoch 18, CIFAR-10 Batch 1:  Loss at 0.4956527650356293 Validation Accuracy at 0.6867998838424683\n",
      "Epoch 18, CIFAR-10 Batch 2:  Loss at 0.48552054166793823 Validation Accuracy at 0.6757998466491699\n",
      "Epoch 18, CIFAR-10 Batch 3:  Loss at 0.38998648524284363 Validation Accuracy at 0.6847999095916748\n",
      "Epoch 18, CIFAR-10 Batch 4:  Loss at 0.40220436453819275 Validation Accuracy at 0.6909998655319214\n",
      "Epoch 18, CIFAR-10 Batch 5:  Loss at 0.3632405698299408 Validation Accuracy at 0.6851998567581177\n"
     ]
    }
   ],
   "source": [
    "\"\"\"\n",
    "DON'T MODIFY ANYTHING IN THIS CELL\n",
    "\"\"\"\n",
    "save_model_path = './image_classification'\n",
    "\n",
    "print('Training...')\n",
    "with tf.Session() as sess:\n",
    "    # Initializing the variables\n",
    "    sess.run(tf.global_variables_initializer())\n",
    "    \n",
    "    # Training cycle\n",
    "    for epoch in range(epochs):\n",
    "        # Loop over all batches\n",
    "        n_batches = 5\n",
    "        for batch_i in range(1, n_batches + 1):\n",
    "            for batch_features, batch_labels in helper.load_preprocess_training_batch(batch_i, batch_size):\n",
    "                train_neural_network(sess, optimizer, keep_probability, batch_features, batch_labels)\n",
    "            print('Epoch {:>2}, CIFAR-10 Batch {}:  '.format(epoch + 1, batch_i), end='')\n",
    "            print_stats(sess, batch_features, batch_labels, cost, accuracy)\n",
    "            \n",
    "    # Save Model\n",
    "    saver = tf.train.Saver()\n",
    "    save_path = saver.save(sess, save_model_path)"
   ]
  },
  {
   "cell_type": "markdown",
   "metadata": {
    "deletable": true,
    "editable": true
   },
   "source": [
    "# Checkpoint\n",
    "The model has been saved to disk.\n",
    "## Test Model\n",
    "Test your model against the test dataset.  This will be your final accuracy. You should have an accuracy greater than 50%. If you don't, keep tweaking the model architecture and parameters."
   ]
  },
  {
   "cell_type": "code",
   "execution_count": 20,
   "metadata": {
    "collapsed": false,
    "deletable": true,
    "editable": true
   },
   "outputs": [
    {
     "name": "stdout",
     "output_type": "stream",
     "text": [
      "Testing Accuracy: 0.6769129157066345\n",
      "\n"
     ]
    },
    {
     "data": {
      "image/png": "[encoded data removed]",
      "text/plain": [
       "<matplotlib.figure.Figure at 0x7f41a9fca0f0>"
      ]
     },
     "metadata": {
      "image/png": {
       "height": 319,
       "width": 355
      }
     },
     "output_type": "display_data"
    }
   ],
   "source": [
    "\"\"\"\n",
    "DON'T MODIFY ANYTHING IN THIS CELL\n",
    "\"\"\"\n",
    "%matplotlib inline\n",
    "%config InlineBackend.figure_format = 'retina'\n",
    "\n",
    "import tensorflow as tf\n",
    "import pickle\n",
    "import helper\n",
    "import random\n",
    "\n",
    "# Set batch size if not already set\n",
    "try:\n",
    "    if batch_size:\n",
    "        pass\n",
    "except NameError:\n",
    "    batch_size = 64\n",
    "\n",
    "save_model_path = './image_classification'\n",
    "n_samples = 4\n",
    "top_n_predictions = 3\n",
    "\n",
    "def test_model():\n",
    "    \"\"\"\n",
    "    Test the saved model against the test dataset\n",
    "    \"\"\"\n",
    "\n",
    "    test_features, test_labels = pickle.load(open('preprocess_test.p', mode='rb'))\n",
    "    loaded_graph = tf.Graph()\n",
    "\n",
    "    with tf.Session(graph=loaded_graph) as sess:\n",
    "        # Load model\n",
    "        loader = tf.train.import_meta_graph(save_model_path + '.meta')\n",
    "        loader.restore(sess, save_model_path)\n",
    "\n",
    "        # Get Tensors from loaded model\n",
    "        loaded_x = loaded_graph.get_tensor_by_name('x:0')\n",
    "        loaded_y = loaded_graph.get_tensor_by_name('y:0')\n",
    "        loaded_keep_prob = loaded_graph.get_tensor_by_name('keep_prob:0')\n",
    "        loaded_logits = loaded_graph.get_tensor_by_name('logits:0')\n",
    "        loaded_acc = loaded_graph.get_tensor_by_name('accuracy:0')\n",
    "        \n",
    "        # Get accuracy in batches for memory limitations\n",
    "        test_batch_acc_total = 0\n",
    "        test_batch_count = 0\n",
    "        \n",
    "        for test_feature_batch, test_label_batch in helper.batch_features_labels(test_features, test_labels, batch_size):\n",
    "            test_batch_acc_total += sess.run(\n",
    "                loaded_acc,\n",
    "                feed_dict={loaded_x: test_feature_batch, loaded_y: test_label_batch, loaded_keep_prob: 1.0})\n",
    "            test_batch_count += 1\n",
    "\n",
    "        print('Testing Accuracy: {}\\n'.format(test_batch_acc_total/test_batch_count))\n",
    "\n",
    "        # Print Random Samples\n",
    "        random_test_features, random_test_labels = tuple(zip(*random.sample(list(zip(test_features, test_labels)), n_samples)))\n",
    "        random_test_predictions = sess.run(\n",
    "            tf.nn.top_k(tf.nn.softmax(loaded_logits), top_n_predictions),\n",
    "            feed_dict={loaded_x: random_test_features, loaded_y: random_test_labels, loaded_keep_prob: 1.0})\n",
    "        helper.display_image_predictions(random_test_features, random_test_labels, random_test_predictions)\n",
    "\n",
    "\n",
    "test_model()"
   ]
  },
  {
   "cell_type": "markdown",
   "metadata": {
    "deletable": true,
    "editable": true
   },
   "source": [
    "## Why 50-80% Accuracy?\n",
    "You might be wondering why you can't get an accuracy any higher. First things first, 50% isn't bad for a simple CNN.  Pure guessing would get you 10% accuracy. However, you might notice people are getting scores [well above 80%](http://rodrigob.github.io/are_we_there_yet/build/classification_datasets_results.html#43494641522d3130).  That's because we haven't taught you all there is to know about neural networks. We still need to cover a few more techniques.\n",
    "## Submitting This Project\n",
    "When submitting this project, make sure to run all the cells before saving the notebook.  Save the notebook file as \"dlnd_image_classification.ipynb\" and save it as a HTML file under \"File\" -> \"Download as\".  Include the \"helper.py\" and \"problem_unittests.py\" files in your submission."
   ]
  }
 ],
 "metadata": {
  "kernelspec": {
   "display_name": "Python 3",
   "language": "python",
   "name": "python3"
  },
  "language_info": {
   "codemirror_mode": {
    "name": "ipython",
    "version": 3
   },
   "file_extension": ".py",
   "mimetype": "text/x-python",
   "name": "python",
   "nbconvert_exporter": "python",
   "pygments_lexer": "ipython3",
   "version": "3.5.3"
  }
 },
 "nbformat": 4,
 "nbformat_minor": 1
}
